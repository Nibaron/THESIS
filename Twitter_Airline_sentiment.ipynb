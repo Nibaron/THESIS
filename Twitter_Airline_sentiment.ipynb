{
  "nbformat": 4,
  "nbformat_minor": 0,
  "metadata": {
    "colab": {
      "name": "Twitter Airline sentiment.ipynb",
      "provenance": [],
      "authorship_tag": "ABX9TyMA43lMn7nTy3Dxdy47vFsT",
      "include_colab_link": true
    },
    "kernelspec": {
      "name": "python3",
      "display_name": "Python 3"
    },
    "language_info": {
      "name": "python"
    }
  },
  "cells": [
    {
      "cell_type": "markdown",
      "metadata": {
        "id": "view-in-github",
        "colab_type": "text"
      },
      "source": [
        "<a href=\"https://colab.research.google.com/github/Nibaron/THESIS/blob/main/Twitter_Airline_sentiment.ipynb\" target=\"_parent\"><img src=\"https://colab.research.google.com/assets/colab-badge.svg\" alt=\"Open In Colab\"/></a>"
      ]
    },
    {
      "cell_type": "markdown",
      "metadata": {
        "id": "hI_wiVy7L7HS"
      },
      "source": [
        "**HERE WE WILL PRACTICE CODE FOR THESIS**"
      ]
    },
    {
      "cell_type": "code",
      "source": [
        "import numpy as np # linear algebra\n",
        "import pandas as pd # data processing, CSV file I/O (e.g. pd.read_csv)\n",
        "\n",
        "import os"
      ],
      "metadata": {
        "id": "8bUtOzHpJ5qV"
      },
      "execution_count": 3,
      "outputs": []
    },
    {
      "cell_type": "code",
      "metadata": {
        "id": "oCSuZJ-wLuUt"
      },
      "source": [
        "import matplotlib.pyplot as plt\n",
        "import seaborn as sns\n",
        "%matplotlib inline\n",
        "\n",
        "import warnings\n",
        "warnings.filterwarnings('ignore')"
      ],
      "execution_count": 4,
      "outputs": []
    },
    {
      "cell_type": "code",
      "source": [
        "from nltk.corpus import stopwords\n",
        "from nltk.util import ngrams\n",
        "from nltk.stem import WordNetLemmatizer\n",
        "from nltk.sentiment.vader import SentimentIntensityAnalyzer\n",
        "import re\n",
        "from textblob import TextBlob\n",
        "from sklearn.model_selection import StratifiedKFold,train_test_split\n",
        "from sklearn.feature_extraction.text import TfidfVectorizer, CountVectorizer\n",
        "from sklearn.linear_model import LogisticRegression\n",
        "from sklearn.metrics import accuracy_score, precision_score, recall_score, confusion_matrix\n",
        "from sklearn.pipeline import Pipeline\n",
        "from sklearn.model_selection import GridSearchCV\n",
        "import tensorflow as tf\n",
        "from keras.preprocessing.text import Tokenizer\n",
        "from keras.preprocessing.sequence import pad_sequences\n",
        "from tensorflow.keras.utils import to_categorical\n",
        "from gensim.models import Word2Vec\n",
        "from gensim.models.keyedvectors import KeyedVectors\n",
        "import time\n",
        "from keras.layers import Dense, Input, Flatten, LSTM, Bidirectional,Embedding, Dropout\n",
        "from keras.layers import Conv1D, MaxPooling1D, Embedding\n",
        "from keras.models import Sequential, load_model\n",
        "from keras import losses\n",
        "from tensorflow.keras.optimizers import Adam\n",
        "from tensorflow.keras.models import Model\n",
        "from keras.preprocessing.sequence import pad_sequences\n",
        "from keras.utils.vis_utils import plot_model\n",
        "from keras.callbacks import EarlyStopping"
      ],
      "metadata": {
        "id": "k4ss7o84KD51"
      },
      "execution_count": 5,
      "outputs": []
    },
    {
      "cell_type": "code",
      "source": [
        "from google.colab import drive\n",
        "drive.mount('/content/drive')"
      ],
      "metadata": {
        "colab": {
          "base_uri": "https://localhost:8080/"
        },
        "id": "sD4ZeJNqKPyS",
        "outputId": "9cf46c62-9ec8-486e-b585-6d0ee888d683"
      },
      "execution_count": 6,
      "outputs": [
        {
          "output_type": "stream",
          "name": "stdout",
          "text": [
            "Mounted at /content/drive\n"
          ]
        }
      ]
    },
    {
      "cell_type": "code",
      "source": [
        "df=pd.read_csv('/content/drive/MyDrive/THESIS/twitter-airline-sentiment/Tweets.csv')"
      ],
      "metadata": {
        "id": "mJu9cH7ELdJi"
      },
      "execution_count": 7,
      "outputs": []
    },
    {
      "cell_type": "code",
      "source": [
        "df.head()"
      ],
      "metadata": {
        "colab": {
          "base_uri": "https://localhost:8080/",
          "height": 496
        },
        "id": "sZHvsx3rMZcD",
        "outputId": "cfa66a62-35cf-40aa-a7f2-74c841d0af9d"
      },
      "execution_count": 8,
      "outputs": [
        {
          "output_type": "execute_result",
          "data": {
            "text/plain": [
              "             tweet_id airline_sentiment  airline_sentiment_confidence  \\\n",
              "0  570306133677760513           neutral                        1.0000   \n",
              "1  570301130888122368          positive                        0.3486   \n",
              "2  570301083672813571           neutral                        0.6837   \n",
              "3  570301031407624196          negative                        1.0000   \n",
              "4  570300817074462722          negative                        1.0000   \n",
              "\n",
              "  negativereason  negativereason_confidence         airline  \\\n",
              "0            NaN                        NaN  Virgin America   \n",
              "1            NaN                     0.0000  Virgin America   \n",
              "2            NaN                        NaN  Virgin America   \n",
              "3     Bad Flight                     0.7033  Virgin America   \n",
              "4     Can't Tell                     1.0000  Virgin America   \n",
              "\n",
              "  airline_sentiment_gold        name negativereason_gold  retweet_count  \\\n",
              "0                    NaN     cairdin                 NaN              0   \n",
              "1                    NaN    jnardino                 NaN              0   \n",
              "2                    NaN  yvonnalynn                 NaN              0   \n",
              "3                    NaN    jnardino                 NaN              0   \n",
              "4                    NaN    jnardino                 NaN              0   \n",
              "\n",
              "                                                text tweet_coord  \\\n",
              "0                @VirginAmerica What @dhepburn said.         NaN   \n",
              "1  @VirginAmerica plus you've added commercials t...         NaN   \n",
              "2  @VirginAmerica I didn't today... Must mean I n...         NaN   \n",
              "3  @VirginAmerica it's really aggressive to blast...         NaN   \n",
              "4  @VirginAmerica and it's a really big bad thing...         NaN   \n",
              "\n",
              "               tweet_created tweet_location               user_timezone  \n",
              "0  2015-02-24 11:35:52 -0800            NaN  Eastern Time (US & Canada)  \n",
              "1  2015-02-24 11:15:59 -0800            NaN  Pacific Time (US & Canada)  \n",
              "2  2015-02-24 11:15:48 -0800      Lets Play  Central Time (US & Canada)  \n",
              "3  2015-02-24 11:15:36 -0800            NaN  Pacific Time (US & Canada)  \n",
              "4  2015-02-24 11:14:45 -0800            NaN  Pacific Time (US & Canada)  "
            ],
            "text/html": [
              "\n",
              "  <div id=\"df-e667168a-5dca-4a65-bd8d-c6056e00d30b\">\n",
              "    <div class=\"colab-df-container\">\n",
              "      <div>\n",
              "<style scoped>\n",
              "    .dataframe tbody tr th:only-of-type {\n",
              "        vertical-align: middle;\n",
              "    }\n",
              "\n",
              "    .dataframe tbody tr th {\n",
              "        vertical-align: top;\n",
              "    }\n",
              "\n",
              "    .dataframe thead th {\n",
              "        text-align: right;\n",
              "    }\n",
              "</style>\n",
              "<table border=\"1\" class=\"dataframe\">\n",
              "  <thead>\n",
              "    <tr style=\"text-align: right;\">\n",
              "      <th></th>\n",
              "      <th>tweet_id</th>\n",
              "      <th>airline_sentiment</th>\n",
              "      <th>airline_sentiment_confidence</th>\n",
              "      <th>negativereason</th>\n",
              "      <th>negativereason_confidence</th>\n",
              "      <th>airline</th>\n",
              "      <th>airline_sentiment_gold</th>\n",
              "      <th>name</th>\n",
              "      <th>negativereason_gold</th>\n",
              "      <th>retweet_count</th>\n",
              "      <th>text</th>\n",
              "      <th>tweet_coord</th>\n",
              "      <th>tweet_created</th>\n",
              "      <th>tweet_location</th>\n",
              "      <th>user_timezone</th>\n",
              "    </tr>\n",
              "  </thead>\n",
              "  <tbody>\n",
              "    <tr>\n",
              "      <th>0</th>\n",
              "      <td>570306133677760513</td>\n",
              "      <td>neutral</td>\n",
              "      <td>1.0000</td>\n",
              "      <td>NaN</td>\n",
              "      <td>NaN</td>\n",
              "      <td>Virgin America</td>\n",
              "      <td>NaN</td>\n",
              "      <td>cairdin</td>\n",
              "      <td>NaN</td>\n",
              "      <td>0</td>\n",
              "      <td>@VirginAmerica What @dhepburn said.</td>\n",
              "      <td>NaN</td>\n",
              "      <td>2015-02-24 11:35:52 -0800</td>\n",
              "      <td>NaN</td>\n",
              "      <td>Eastern Time (US &amp; Canada)</td>\n",
              "    </tr>\n",
              "    <tr>\n",
              "      <th>1</th>\n",
              "      <td>570301130888122368</td>\n",
              "      <td>positive</td>\n",
              "      <td>0.3486</td>\n",
              "      <td>NaN</td>\n",
              "      <td>0.0000</td>\n",
              "      <td>Virgin America</td>\n",
              "      <td>NaN</td>\n",
              "      <td>jnardino</td>\n",
              "      <td>NaN</td>\n",
              "      <td>0</td>\n",
              "      <td>@VirginAmerica plus you've added commercials t...</td>\n",
              "      <td>NaN</td>\n",
              "      <td>2015-02-24 11:15:59 -0800</td>\n",
              "      <td>NaN</td>\n",
              "      <td>Pacific Time (US &amp; Canada)</td>\n",
              "    </tr>\n",
              "    <tr>\n",
              "      <th>2</th>\n",
              "      <td>570301083672813571</td>\n",
              "      <td>neutral</td>\n",
              "      <td>0.6837</td>\n",
              "      <td>NaN</td>\n",
              "      <td>NaN</td>\n",
              "      <td>Virgin America</td>\n",
              "      <td>NaN</td>\n",
              "      <td>yvonnalynn</td>\n",
              "      <td>NaN</td>\n",
              "      <td>0</td>\n",
              "      <td>@VirginAmerica I didn't today... Must mean I n...</td>\n",
              "      <td>NaN</td>\n",
              "      <td>2015-02-24 11:15:48 -0800</td>\n",
              "      <td>Lets Play</td>\n",
              "      <td>Central Time (US &amp; Canada)</td>\n",
              "    </tr>\n",
              "    <tr>\n",
              "      <th>3</th>\n",
              "      <td>570301031407624196</td>\n",
              "      <td>negative</td>\n",
              "      <td>1.0000</td>\n",
              "      <td>Bad Flight</td>\n",
              "      <td>0.7033</td>\n",
              "      <td>Virgin America</td>\n",
              "      <td>NaN</td>\n",
              "      <td>jnardino</td>\n",
              "      <td>NaN</td>\n",
              "      <td>0</td>\n",
              "      <td>@VirginAmerica it's really aggressive to blast...</td>\n",
              "      <td>NaN</td>\n",
              "      <td>2015-02-24 11:15:36 -0800</td>\n",
              "      <td>NaN</td>\n",
              "      <td>Pacific Time (US &amp; Canada)</td>\n",
              "    </tr>\n",
              "    <tr>\n",
              "      <th>4</th>\n",
              "      <td>570300817074462722</td>\n",
              "      <td>negative</td>\n",
              "      <td>1.0000</td>\n",
              "      <td>Can't Tell</td>\n",
              "      <td>1.0000</td>\n",
              "      <td>Virgin America</td>\n",
              "      <td>NaN</td>\n",
              "      <td>jnardino</td>\n",
              "      <td>NaN</td>\n",
              "      <td>0</td>\n",
              "      <td>@VirginAmerica and it's a really big bad thing...</td>\n",
              "      <td>NaN</td>\n",
              "      <td>2015-02-24 11:14:45 -0800</td>\n",
              "      <td>NaN</td>\n",
              "      <td>Pacific Time (US &amp; Canada)</td>\n",
              "    </tr>\n",
              "  </tbody>\n",
              "</table>\n",
              "</div>\n",
              "      <button class=\"colab-df-convert\" onclick=\"convertToInteractive('df-e667168a-5dca-4a65-bd8d-c6056e00d30b')\"\n",
              "              title=\"Convert this dataframe to an interactive table.\"\n",
              "              style=\"display:none;\">\n",
              "        \n",
              "  <svg xmlns=\"http://www.w3.org/2000/svg\" height=\"24px\"viewBox=\"0 0 24 24\"\n",
              "       width=\"24px\">\n",
              "    <path d=\"M0 0h24v24H0V0z\" fill=\"none\"/>\n",
              "    <path d=\"M18.56 5.44l.94 2.06.94-2.06 2.06-.94-2.06-.94-.94-2.06-.94 2.06-2.06.94zm-11 1L8.5 8.5l.94-2.06 2.06-.94-2.06-.94L8.5 2.5l-.94 2.06-2.06.94zm10 10l.94 2.06.94-2.06 2.06-.94-2.06-.94-.94-2.06-.94 2.06-2.06.94z\"/><path d=\"M17.41 7.96l-1.37-1.37c-.4-.4-.92-.59-1.43-.59-.52 0-1.04.2-1.43.59L10.3 9.45l-7.72 7.72c-.78.78-.78 2.05 0 2.83L4 21.41c.39.39.9.59 1.41.59.51 0 1.02-.2 1.41-.59l7.78-7.78 2.81-2.81c.8-.78.8-2.07 0-2.86zM5.41 20L4 18.59l7.72-7.72 1.47 1.35L5.41 20z\"/>\n",
              "  </svg>\n",
              "      </button>\n",
              "      \n",
              "  <style>\n",
              "    .colab-df-container {\n",
              "      display:flex;\n",
              "      flex-wrap:wrap;\n",
              "      gap: 12px;\n",
              "    }\n",
              "\n",
              "    .colab-df-convert {\n",
              "      background-color: #E8F0FE;\n",
              "      border: none;\n",
              "      border-radius: 50%;\n",
              "      cursor: pointer;\n",
              "      display: none;\n",
              "      fill: #1967D2;\n",
              "      height: 32px;\n",
              "      padding: 0 0 0 0;\n",
              "      width: 32px;\n",
              "    }\n",
              "\n",
              "    .colab-df-convert:hover {\n",
              "      background-color: #E2EBFA;\n",
              "      box-shadow: 0px 1px 2px rgba(60, 64, 67, 0.3), 0px 1px 3px 1px rgba(60, 64, 67, 0.15);\n",
              "      fill: #174EA6;\n",
              "    }\n",
              "\n",
              "    [theme=dark] .colab-df-convert {\n",
              "      background-color: #3B4455;\n",
              "      fill: #D2E3FC;\n",
              "    }\n",
              "\n",
              "    [theme=dark] .colab-df-convert:hover {\n",
              "      background-color: #434B5C;\n",
              "      box-shadow: 0px 1px 3px 1px rgba(0, 0, 0, 0.15);\n",
              "      filter: drop-shadow(0px 1px 2px rgba(0, 0, 0, 0.3));\n",
              "      fill: #FFFFFF;\n",
              "    }\n",
              "  </style>\n",
              "\n",
              "      <script>\n",
              "        const buttonEl =\n",
              "          document.querySelector('#df-e667168a-5dca-4a65-bd8d-c6056e00d30b button.colab-df-convert');\n",
              "        buttonEl.style.display =\n",
              "          google.colab.kernel.accessAllowed ? 'block' : 'none';\n",
              "\n",
              "        async function convertToInteractive(key) {\n",
              "          const element = document.querySelector('#df-e667168a-5dca-4a65-bd8d-c6056e00d30b');\n",
              "          const dataTable =\n",
              "            await google.colab.kernel.invokeFunction('convertToInteractive',\n",
              "                                                     [key], {});\n",
              "          if (!dataTable) return;\n",
              "\n",
              "          const docLinkHtml = 'Like what you see? Visit the ' +\n",
              "            '<a target=\"_blank\" href=https://colab.research.google.com/notebooks/data_table.ipynb>data table notebook</a>'\n",
              "            + ' to learn more about interactive tables.';\n",
              "          element.innerHTML = '';\n",
              "          dataTable['output_type'] = 'display_data';\n",
              "          await google.colab.output.renderOutput(dataTable, element);\n",
              "          const docLink = document.createElement('div');\n",
              "          docLink.innerHTML = docLinkHtml;\n",
              "          element.appendChild(docLink);\n",
              "        }\n",
              "      </script>\n",
              "    </div>\n",
              "  </div>\n",
              "  "
            ]
          },
          "metadata": {},
          "execution_count": 8
        }
      ]
    },
    {
      "cell_type": "code",
      "source": [
        "df.info()"
      ],
      "metadata": {
        "colab": {
          "base_uri": "https://localhost:8080/"
        },
        "id": "61ICZegJMkt6",
        "outputId": "604ea7b7-5c65-48a5-e335-59810e3b0ddc"
      },
      "execution_count": 9,
      "outputs": [
        {
          "output_type": "stream",
          "name": "stdout",
          "text": [
            "<class 'pandas.core.frame.DataFrame'>\n",
            "RangeIndex: 14640 entries, 0 to 14639\n",
            "Data columns (total 15 columns):\n",
            " #   Column                        Non-Null Count  Dtype  \n",
            "---  ------                        --------------  -----  \n",
            " 0   tweet_id                      14640 non-null  int64  \n",
            " 1   airline_sentiment             14640 non-null  object \n",
            " 2   airline_sentiment_confidence  14640 non-null  float64\n",
            " 3   negativereason                9178 non-null   object \n",
            " 4   negativereason_confidence     10522 non-null  float64\n",
            " 5   airline                       14640 non-null  object \n",
            " 6   airline_sentiment_gold        40 non-null     object \n",
            " 7   name                          14640 non-null  object \n",
            " 8   negativereason_gold           32 non-null     object \n",
            " 9   retweet_count                 14640 non-null  int64  \n",
            " 10  text                          14640 non-null  object \n",
            " 11  tweet_coord                   1019 non-null   object \n",
            " 12  tweet_created                 14640 non-null  object \n",
            " 13  tweet_location                9907 non-null   object \n",
            " 14  user_timezone                 9820 non-null   object \n",
            "dtypes: float64(2), int64(2), object(11)\n",
            "memory usage: 1.7+ MB\n"
          ]
        }
      ]
    },
    {
      "cell_type": "markdown",
      "source": [
        "***RATIO OF NEGATIVE,POSITIVE AND NEUTRAL***"
      ],
      "metadata": {
        "id": "FV5k5NPDMylK"
      }
    },
    {
      "cell_type": "code",
      "source": [
        "label=['Negative','Neutral','Positive']\n",
        "plt.pie(df.groupby('airline_sentiment')['airline_sentiment'].count(),autopct=\"%.1f%%\",labels=label)\n",
        "plt.show()"
      ],
      "metadata": {
        "colab": {
          "base_uri": "https://localhost:8080/",
          "height": 248
        },
        "id": "co2iwlcBNJj8",
        "outputId": "32571a5d-2208-4e81-e6f6-e2ca005f72d4"
      },
      "execution_count": 10,
      "outputs": [
        {
          "output_type": "display_data",
          "data": {
            "text/plain": [
              "<Figure size 432x288 with 1 Axes>"
            ],
            "image/png": "[encoded data removed]"
          },
          "metadata": {}
        }
      ]
    },
    {
      "cell_type": "markdown",
      "source": [
        "***RATIO OF AIR PLANES***"
      ],
      "metadata": {
        "id": "YtaFpl75NUzL"
      }
    },
    {
      "cell_type": "code",
      "source": [
        "label=['American', 'Delta', 'Southwest', 'US Airways', 'United',\n",
        "       'Virgin America']\n",
        "plt.pie(df.groupby('airline')['airline_sentiment'].count(),autopct=\"%.1f%%\",labels=label)\n",
        "plt.show()"
      ],
      "metadata": {
        "colab": {
          "base_uri": "https://localhost:8080/",
          "height": 248
        },
        "id": "5I-m9aLCNN-p",
        "outputId": "80d9a9c4-6b49-4181-8e3f-1fcdc9719fe7"
      },
      "execution_count": 11,
      "outputs": [
        {
          "output_type": "display_data",
          "data": {
            "text/plain": [
              "<Figure size 432x288 with 1 Axes>"
            ],
            "image/png": "[encoded data removed]"
          },
          "metadata": {}
        }
      ]
    },
    {
      "cell_type": "markdown",
      "source": [
        "*** What is the worst negative reason ? ***"
      ],
      "metadata": {
        "id": "RRKWGzu4ONbV"
      }
    },
    {
      "cell_type": "code",
      "source": [
        "df.groupby('negativereason')['negativereason'].count().sort_values(ascending=True).plot.barh()"
      ],
      "metadata": {
        "colab": {
          "base_uri": "https://localhost:8080/",
          "height": 283
        },
        "id": "CiZx2iu-OP1d",
        "outputId": "df4cd69d-4060-4d70-8923-0d15b817d63e"
      },
      "execution_count": 12,
      "outputs": [
        {
          "output_type": "execute_result",
          "data": {
            "text/plain": [
              "<matplotlib.axes._subplots.AxesSubplot at 0x7ffb089bda90>"
            ]
          },
          "metadata": {},
          "execution_count": 12
        },
        {
          "output_type": "display_data",
          "data": {
            "text/plain": [
              "<Figure size 432x288 with 1 Axes>"
            ],
            "image/png": "[encoded data removed]"
          },
          "metadata": {
            "needs_background": "light"
          }
        }
      ]
    },
    {
      "cell_type": "markdown",
      "source": [
        "Ratio of 'Negative', 'Positive' and 'Neutral' by airplanes"
      ],
      "metadata": {
        "id": "3RJIIkmFOaQt"
      }
    },
    {
      "cell_type": "code",
      "source": [
        "pd.DataFrame(df.groupby('airline')['airline_sentiment'].value_counts()).unstack().plot.barh(figsize=(10,10),stacked=True)\n",
        "plt.legend(bbox_to_anchor=(1.05, 1), loc='upper left', borderaxespad=0, fontsize=10)\n",
        "plt.show()"
      ],
      "metadata": {
        "colab": {
          "base_uri": "https://localhost:8080/",
          "height": 592
        },
        "id": "-XA8kW_tObV9",
        "outputId": "ac55a8fd-67db-45b7-8db7-5d6c3642d56d"
      },
      "execution_count": 13,
      "outputs": [
        {
          "output_type": "display_data",
          "data": {
            "text/plain": [
              "<Figure size 720x720 with 1 Axes>"
            ],
            "image/png": "[encoded data removed]"
          },
          "metadata": {
            "needs_background": "light"
          }
        }
      ]
    },
    {
      "cell_type": "markdown",
      "source": [
        "Ratio of airplanes by 'Negative', 'Positive' and 'Neutral'"
      ],
      "metadata": {
        "id": "NCYgzdM_OhVe"
      }
    },
    {
      "cell_type": "code",
      "source": [
        "pd.DataFrame(df.groupby('airline_sentiment')['airline'].value_counts()).unstack().plot.bar(figsize=(10,10),stacked=True)\n",
        "plt.legend(bbox_to_anchor=(1.05, 1), loc='upper left', borderaxespad=0, fontsize=10)\n",
        "plt.show()"
      ],
      "metadata": {
        "colab": {
          "base_uri": "https://localhost:8080/",
          "height": 640
        },
        "id": "oHFf-gEWOifB",
        "outputId": "9e295322-e1a7-45a5-8e31-a98a5f5f7e12"
      },
      "execution_count": 14,
      "outputs": [
        {
          "output_type": "display_data",
          "data": {
            "text/plain": [
              "<Figure size 720x720 with 1 Axes>"
            ],
            "image/png": "[encoded data removed]"
          },
          "metadata": {
            "needs_background": "light"
          }
        }
      ]
    },
    {
      "cell_type": "markdown",
      "source": [
        "Ratio of negative reason by airplanes"
      ],
      "metadata": {
        "id": "vhl2_3qfOoRs"
      }
    },
    {
      "cell_type": "code",
      "source": [
        "pd.DataFrame(df.groupby('airline')['negativereason'].value_counts()).unstack().plot.barh(figsize=(10,10),stacked=True)\n",
        "plt.legend(bbox_to_anchor=(1.05, 1), loc='upper left', borderaxespad=0, fontsize=10)\n",
        "plt.show()"
      ],
      "metadata": {
        "colab": {
          "base_uri": "https://localhost:8080/",
          "height": 592
        },
        "id": "L1AVKksHOpF6",
        "outputId": "18905fb5-a078-4cf1-b24f-2e5c7bd8755e"
      },
      "execution_count": 15,
      "outputs": [
        {
          "output_type": "display_data",
          "data": {
            "text/plain": [
              "<Figure size 720x720 with 1 Axes>"
            ],
            "image/png": "[encoded data removed]"
          },
          "metadata": {
            "needs_background": "light"
          }
        }
      ]
    },
    {
      "cell_type": "markdown",
      "source": [
        "Ratio of airplanes by negative reason"
      ],
      "metadata": {
        "id": "dwLk3S0POvPn"
      }
    },
    {
      "cell_type": "code",
      "source": [
        "pd.DataFrame(df.groupby('negativereason')['airline'].value_counts()).unstack().plot.barh(figsize=(10,10),stacked=True)\n",
        "plt.legend(bbox_to_anchor=(1.05, 1), loc='upper left', borderaxespad=0, fontsize=10)\n",
        "plt.show()"
      ],
      "metadata": {
        "colab": {
          "base_uri": "https://localhost:8080/",
          "height": 592
        },
        "id": "P411L-hKOwIM",
        "outputId": "e0dcf379-38a4-46db-aa9d-599f56954e3e"
      },
      "execution_count": 16,
      "outputs": [
        {
          "output_type": "display_data",
          "data": {
            "text/plain": [
              "<Figure size 720x720 with 1 Axes>"
            ],
            "image/png": "[encoded data removed]"
          },
          "metadata": {
            "needs_background": "light"
          }
        }
      ]
    },
    {
      "cell_type": "markdown",
      "source": [
        "Kernel distribution of number of words by 'Negative', 'Positive' and 'Neutral'"
      ],
      "metadata": {
        "id": "Wg1OyDzUO1VF"
      }
    },
    {
      "cell_type": "code",
      "source": [
        "num_neg = df[df['airline_sentiment']=='negative']['text'].apply(lambda x: len(x.split()))\n",
        "num_neu = df[df['airline_sentiment']=='neutral']['text'].apply(lambda x: len(x.split()))\n",
        "num_pos = df[df['airline_sentiment']=='positive']['text'].apply(lambda x: len(x.split()))\n",
        "plt.figure(figsize=(12,6))\n",
        "sns.kdeplot(num_neg, shade=True, color = 'r').set_title('Kernel distribution of number of words')\n",
        "sns.kdeplot(num_neu, shade=True, color = 'y')\n",
        "sns.kdeplot(num_pos, shade=True, color = 'b')\n",
        "\n",
        "plt.legend(labels=['Negative', 'Netral','Positive'])"
      ],
      "metadata": {
        "colab": {
          "base_uri": "https://localhost:8080/",
          "height": 422
        },
        "id": "gH32JI2aO1_5",
        "outputId": "389a449c-6be9-436a-f731-dd053fcb8133"
      },
      "execution_count": 17,
      "outputs": [
        {
          "output_type": "execute_result",
          "data": {
            "text/plain": [
              "<matplotlib.legend.Legend at 0x7ffb08493fd0>"
            ]
          },
          "metadata": {},
          "execution_count": 17
        },
        {
          "output_type": "display_data",
          "data": {
            "text/plain": [
              "<Figure size 864x432 with 1 Axes>"
            ],
            "image/png": "[encoded data removed]"
          },
          "metadata": {
            "needs_background": "light"
          }
        }
      ]
    },
    {
      "cell_type": "markdown",
      "source": [
        "NLTK\n",
        "* Tokenize"
      ],
      "metadata": {
        "id": "GDOCfcdFO9Lm"
      }
    },
    {
      "cell_type": "code",
      "source": [
        "!pip install nltk"
      ],
      "metadata": {
        "colab": {
          "base_uri": "https://localhost:8080/"
        },
        "id": "Ewxq1XadO-O_",
        "outputId": "9b0a7005-6f66-4e51-e67b-980e68c10d52"
      },
      "execution_count": 18,
      "outputs": [
        {
          "output_type": "stream",
          "name": "stdout",
          "text": [
            "Looking in indexes: https://pypi.org/simple, https://us-python.pkg.dev/colab-wheels/public/simple/\n",
            "Requirement already satisfied: nltk in /usr/local/lib/python3.7/dist-packages (3.2.5)\n",
            "Requirement already satisfied: six in /usr/local/lib/python3.7/dist-packages (from nltk) (1.15.0)\n"
          ]
        }
      ]
    },
    {
      "cell_type": "code",
      "source": [
        "import re\n",
        "import nltk\n",
        "from nltk.corpus import stopwords\n",
        "nltk.download('stopwords')\n",
        "from nltk.tokenize import word_tokenize\n",
        "nltk.download('punkt')\n",
        "\n",
        "def clean_text(d):\n",
        "    pattern = r'[^a-zA-Z\\s]'\n",
        "    text = re.sub(pattern, '', d)\n",
        "    return text\n",
        "\n",
        "names = ['delta', 'deltaair', 'united', 'unitedair', 'southwest', 'southwestair', 'usairways',\n",
        "         'virginamerica', 'american', 'americanair', 'jetblue', 'jetblues', 'usairway',\n",
        "         'flight', 'airline', 'airlines']\n",
        "\n",
        "# In 'Twitter Sentiment Analysis - EDA and ML/DL', the name of airlines are not relevant to the sentiment analysis and added to the list of stop words.\n",
        "# So I followed it.\n",
        "def clean_stopword(d):\n",
        "    stop_words = stopwords.words('english')\n",
        "    for name in names:\n",
        "        stop_words.append(name)\n",
        "    return \" \".join([w.lower() for w in d.split() if w.lower() not in stop_words and len(w) > 1])\n",
        "\n",
        "def tokenize(d):\n",
        "    return word_tokenize(d)"
      ],
      "metadata": {
        "colab": {
          "base_uri": "https://localhost:8080/"
        },
        "id": "Dltcm8qQPEUD",
        "outputId": "5284e75b-c080-4c87-feaa-3ffdbabe4a99"
      },
      "execution_count": 19,
      "outputs": [
        {
          "output_type": "stream",
          "name": "stdout",
          "text": [
            "[nltk_data] Downloading package stopwords to /root/nltk_data...\n",
            "[nltk_data]   Unzipping corpora/stopwords.zip.\n",
            "[nltk_data] Downloading package punkt to /root/nltk_data...\n",
            "[nltk_data]   Unzipping tokenizers/punkt.zip.\n"
          ]
        }
      ]
    },
    {
      "cell_type": "code",
      "source": [
        "df['final_text']= df.text.apply(clean_text).apply(clean_stopword).apply(tokenize)\n",
        "df.final_text.head()"
      ],
      "metadata": {
        "colab": {
          "base_uri": "https://localhost:8080/"
        },
        "id": "U2HKBYzFPMAd",
        "outputId": "8db03112-f8b4-4155-ad51-11de2a941b1b"
      },
      "execution_count": 20,
      "outputs": [
        {
          "output_type": "execute_result",
          "data": {
            "text/plain": [
              "0                                     [dhepburn, said]\n",
              "1    [plus, youve, added, commercials, experience, ...\n",
              "2    [didnt, today, must, mean, need, take, another...\n",
              "3    [really, aggressive, blast, obnoxious, enterta...\n",
              "4                            [really, big, bad, thing]\n",
              "Name: final_text, dtype: object"
            ]
          },
          "metadata": {},
          "execution_count": 20
        }
      ]
    },
    {
      "cell_type": "code",
      "source": [
        "print(\" \".join(df.final_text[0]),'\\n')\n",
        "print(\" \".join(df.final_text[1]),'\\n')\n",
        "print(\" \".join(df.final_text[100]),'\\n')\n",
        "print(\" \".join(df.final_text[1000]),'\\n')\n",
        "print(\" \".join(df.final_text[10000]))"
      ],
      "metadata": {
        "colab": {
          "base_uri": "https://localhost:8080/"
        },
        "id": "cQJcixnPPO-R",
        "outputId": "5a45ec0d-895b-4add-c766-98a0f215f658"
      },
      "execution_count": 21,
      "outputs": [
        {
          "output_type": "stream",
          "name": "stdout",
          "text": [
            "dhepburn said \n",
            "\n",
            "plus youve added commercials experience tacky \n",
            "\n",
            "trying add boy prince ressie sf thursday lax httptcogsbjcgm \n",
            "\n",
            "put bag plane seattle waiting line talk someone bag status matter \n",
            "\n",
            "waiting day atl since cancelled flightled standby told seats group shows late gets phl\n"
          ]
        }
      ]
    },
    {
      "cell_type": "markdown",
      "source": [
        "Valence Aware Dictionary and sEntiment Reasoner (VADER)\n",
        "VADER (Valence Aware Dictionary and sEntiment Reasoner) is a lexicon and rule-based sentiment analysis tool that is specifically attuned to sentiments expressed in social media. VADER uses a combination of A sentiment lexicon is a list of lexical features (e.g., words) which are generally labeled according to their semantic orientation as either positive or negative. VADER not only tells about the Positivity and Negativity score but also tells us about how positive or negative a sentiment is.\n",
        "\n",
        "reference: https://www.geeksforgeeks.org/python-sentiment-analysis-using-vader/"
      ],
      "metadata": {
        "id": "jBKE7C6xPVdj"
      }
    },
    {
      "cell_type": "code",
      "source": [
        "nltk.download('vader_lexicon')\n",
        "vader = SentimentIntensityAnalyzer()\n",
        "vader.polarity_scores(\" \".join(df.final_text[0]))"
      ],
      "metadata": {
        "colab": {
          "base_uri": "https://localhost:8080/"
        },
        "id": "IziehKmwPZSy",
        "outputId": "8a708e2f-308e-412b-fc42-2d50eec38e52"
      },
      "execution_count": 22,
      "outputs": [
        {
          "output_type": "stream",
          "name": "stdout",
          "text": [
            "[nltk_data] Downloading package vader_lexicon to /root/nltk_data...\n"
          ]
        },
        {
          "output_type": "execute_result",
          "data": {
            "text/plain": [
              "{'compound': 0.0, 'neg': 0.0, 'neu': 1.0, 'pos': 0.0}"
            ]
          },
          "metadata": {},
          "execution_count": 22
        }
      ]
    },
    {
      "cell_type": "code",
      "source": [
        "texts = [\" \".join(df.final_text[i]) for i in range(len(df))]\n",
        "\n",
        "print(df.text[0])\n",
        "print(texts[0])\n",
        "print(vader.polarity_scores(texts[0]), f'--> Actual Classification: {df.airline_sentiment[0]}', '\\n')\n",
        "\n",
        "print(df.text[25])\n",
        "print(texts[25])\n",
        "print(vader.polarity_scores(texts[25]), f'--> Actual Classification: {df.airline_sentiment[25]}', '\\n')\n",
        "\n",
        "print(df.text[575])\n",
        "print(texts[575])\n",
        "print(vader.polarity_scores(texts[575]), f'--> Actual Classification: {df.airline_sentiment[575]}', '\\n')\n",
        "\n",
        "print(df.text[5000])\n",
        "print(texts[5000])\n",
        "print(vader.polarity_scores(texts[5000]), f'--> Actual Classification: {df.airline_sentiment[5000]}', '\\n')"
      ],
      "metadata": {
        "colab": {
          "base_uri": "https://localhost:8080/"
        },
        "id": "1lAcjvAqPfNG",
        "outputId": "ce14fd7f-d0cf-415f-e684-77f86160c966"
      },
      "execution_count": 23,
      "outputs": [
        {
          "output_type": "stream",
          "name": "stdout",
          "text": [
            "@VirginAmerica What @dhepburn said.\n",
            "dhepburn said\n",
            "{'neg': 0.0, 'neu': 1.0, 'pos': 0.0, 'compound': 0.0} --> Actual Classification: neutral \n",
            "\n",
            "@VirginAmerica status match program.  I applied and it's been three weeks.  Called and emailed with no response.\n",
            "status match program applied three weeks called emailed response\n",
            "{'neg': 0.0, 'neu': 1.0, 'pos': 0.0, 'compound': 0.0} --> Actual Classification: negative \n",
            "\n",
            "@united in addition, my first flight was delayed an hour and I'm arriving at my destination 8 hrs Late Flight.\n",
            "addition first delayed hour im arriving destination hrs late\n",
            "{'neg': 0.192, 'neu': 0.808, 'pos': 0.0, 'compound': -0.2263} --> Actual Classification: negative \n",
            "\n",
            "@SouthwestAir - neveryamind I paid $450 for a flight. 250 for a new bag is easy for business class customers, right? http://t.co/vn3JJIa53O\n",
            "neveryamind paid new bag easy business class customers right httptcovnjjiao\n",
            "{'neg': 0.0, 'neu': 0.756, 'pos': 0.244, 'compound': 0.4404} --> Actual Classification: negative \n",
            "\n"
          ]
        }
      ]
    },
    {
      "cell_type": "markdown",
      "source": [
        "Finalize text to classify"
      ],
      "metadata": {
        "id": "Wx2TwNqqPjkr"
      }
    },
    {
      "cell_type": "code",
      "source": [
        "df.final_text"
      ],
      "metadata": {
        "colab": {
          "base_uri": "https://localhost:8080/"
        },
        "id": "v84sBF7xPhDj",
        "outputId": "c2f1d164-4921-4366-96ab-ece837c4c4b8"
      },
      "execution_count": 24,
      "outputs": [
        {
          "output_type": "execute_result",
          "data": {
            "text/plain": [
              "0                                         [dhepburn, said]\n",
              "1        [plus, youve, added, commercials, experience, ...\n",
              "2        [didnt, today, must, mean, need, take, another...\n",
              "3        [really, aggressive, blast, obnoxious, enterta...\n",
              "4                                [really, big, bad, thing]\n",
              "                               ...                        \n",
              "14635                     [thank, got, different, chicago]\n",
              "14636    [leaving, minutes, late, warnings, communicati...\n",
              "14637                          [please, bring, blackberry]\n",
              "14638    [money, change, dont, answer, phones, suggesti...\n",
              "14639    [ppl, need, know, many, seats, next, plz, put,...\n",
              "Name: final_text, Length: 14640, dtype: object"
            ]
          },
          "metadata": {},
          "execution_count": 24
        }
      ]
    },
    {
      "cell_type": "code",
      "source": [
        "for i in range(len(df)):\n",
        "    df['final_text'][i] = \" \".join(df['final_text'][i])"
      ],
      "metadata": {
        "id": "q9D3d_xwPpmw"
      },
      "execution_count": 25,
      "outputs": []
    },
    {
      "cell_type": "code",
      "source": [
        "df['final_text'][:3]"
      ],
      "metadata": {
        "colab": {
          "base_uri": "https://localhost:8080/"
        },
        "id": "THInhn9yPucf",
        "outputId": "3eece091-f983-4ad7-eb23-a7a9b9375c03"
      },
      "execution_count": 26,
      "outputs": [
        {
          "output_type": "execute_result",
          "data": {
            "text/plain": [
              "0                                    dhepburn said\n",
              "1    plus youve added commercials experience tacky\n",
              "2     didnt today must mean need take another trip\n",
              "Name: final_text, dtype: object"
            ]
          },
          "metadata": {},
          "execution_count": 26
        }
      ]
    },
    {
      "cell_type": "code",
      "source": [
        "def convert_Sentiment(sentiment):\n",
        "    if  sentiment == \"positive\":\n",
        "        return 2\n",
        "    elif sentiment == \"neutral\":\n",
        "        return 1\n",
        "    elif sentiment == \"negative\":\n",
        "        return 0\n",
        "    \n",
        "df.airline_sentiment = df.airline_sentiment.apply(lambda x : convert_Sentiment(x))"
      ],
      "metadata": {
        "id": "8QaXWOybPxs1"
      },
      "execution_count": 27,
      "outputs": []
    },
    {
      "cell_type": "code",
      "source": [
        "X= df.final_text\n",
        "y= df.airline_sentiment"
      ],
      "metadata": {
        "id": "lQKgyL5rP6c7"
      },
      "execution_count": 29,
      "outputs": []
    },
    {
      "cell_type": "markdown",
      "source": [
        "TF-IDF & Logistic Regression\n",
        "* TF -IDF"
      ],
      "metadata": {
        "id": "lL3d0mSnQKsK"
      }
    },
    {
      "cell_type": "code",
      "source": [
        "X_train, X_test, y_train, y_test = train_test_split(X, y,\n",
        "                                                   test_size = 0.2, random_state = 4)"
      ],
      "metadata": {
        "id": "D0DLqUllQMEG"
      },
      "execution_count": 30,
      "outputs": []
    },
    {
      "cell_type": "code",
      "source": [
        "def tfidf(words):\n",
        "    tfidf_vectorizer = TfidfVectorizer()\n",
        "    data_feature = tfidf_vectorizer.fit_transform(words)\n",
        "    return data_feature, tfidf_vectorizer\n",
        "\n",
        "X_train_tfidf, tfidf_vectorizer = tfidf(X_train.tolist())\n",
        "X_test_tfidf = tfidf_vectorizer.transform(X_test.tolist())"
      ],
      "metadata": {
        "id": "I_0HuHKRQr5K"
      },
      "execution_count": 32,
      "outputs": []
    },
    {
      "cell_type": "code",
      "source": [
        "X_train_tfidf.shape"
      ],
      "metadata": {
        "colab": {
          "base_uri": "https://localhost:8080/"
        },
        "id": "533KOH-nQw2w",
        "outputId": "c631d835-dd8b-4e60-8d14-46d8e51409b0"
      },
      "execution_count": 33,
      "outputs": [
        {
          "output_type": "execute_result",
          "data": {
            "text/plain": [
              "(11712, 12616)"
            ]
          },
          "metadata": {},
          "execution_count": 33
        }
      ]
    },
    {
      "cell_type": "markdown",
      "source": [
        "Logistic Regression"
      ],
      "metadata": {
        "id": "f0V9LC_yQz4i"
      }
    },
    {
      "cell_type": "code",
      "source": [
        "lr_tfidf = LogisticRegression(random_state=42,solver = 'liblinear')\n",
        "lr_tfidf.fit(X_train_tfidf, y_train)\n",
        "y_predicted_lr = lr_tfidf.predict(X_test_tfidf)"
      ],
      "metadata": {
        "id": "tQ0EJrUuQ0wz"
      },
      "execution_count": 34,
      "outputs": []
    },
    {
      "cell_type": "code",
      "source": [
        "def score_metrics(y_test, y_predicted):\n",
        "    accuracy = accuracy_score(y_test, y_predicted)\n",
        "    precision = precision_score(y_test, y_predicted,average= 'macro')\n",
        "    recall = recall_score(y_test, y_predicted,average='macro')\n",
        "    print(\"accuracy = %0.3f, precision = %0.3f, recall = %0.3f\" % (accuracy, precision, recall))"
      ],
      "metadata": {
        "id": "N3LxNEGRQ4T5"
      },
      "execution_count": 35,
      "outputs": []
    },
    {
      "cell_type": "code",
      "source": [
        "score_metrics(y_test, y_predicted_lr)"
      ],
      "metadata": {
        "colab": {
          "base_uri": "https://localhost:8080/"
        },
        "id": "NBDQk79oQ9oG",
        "outputId": "5dce547c-0626-4ddf-9f94-64cde78f63a5"
      },
      "execution_count": 36,
      "outputs": [
        {
          "output_type": "stream",
          "name": "stdout",
          "text": [
            "accuracy = 0.777, precision = 0.774, recall = 0.640\n"
          ]
        }
      ]
    },
    {
      "cell_type": "code",
      "source": [
        "def plot_confusion_matrix(y_test, y_predicted, title='Confusion Matrix'):\n",
        "    cm = confusion_matrix(y_test, y_predicted)\n",
        "    plt.figure(figsize=(8,6))\n",
        "    sns.heatmap(cm,annot=True, fmt='.20g')\n",
        "    plt.title(title)\n",
        "    plt.ylabel('True label')\n",
        "    plt.xlabel('Predicted label')"
      ],
      "metadata": {
        "id": "V1uc-9KnRB12"
      },
      "execution_count": 37,
      "outputs": []
    },
    {
      "cell_type": "code",
      "source": [
        "plot_confusion_matrix(y_test, y_predicted_lr)"
      ],
      "metadata": {
        "colab": {
          "base_uri": "https://localhost:8080/",
          "height": 404
        },
        "id": "ihFqoZ-PREx0",
        "outputId": "6b19a51c-b036-4a24-ec47-04d3a85ea8d6"
      },
      "execution_count": 38,
      "outputs": [
        {
          "output_type": "display_data",
          "data": {
            "text/plain": [
              "<Figure size 576x432 with 2 Axes>"
            ],
            "image/png": "[encoded data removed]"
          },
          "metadata": {
            "needs_background": "light"
          }
        }
      ]
    },
    {
      "cell_type": "markdown",
      "source": [
        "Word2Vec"
      ],
      "metadata": {
        "id": "Eg_ptj3aSL9f"
      }
    },
    {
      "cell_type": "markdown",
      "source": [
        "image7-1.jpeg\n",
        "In Word2Vec, there are two types. One is Continuous Bag-of-Words Model (CBOW) , and the other is Continuous Skip-gram Model.In Skip-Gram, we try to predict the context words using the main word.In Continuous Bag of Words, the algorithm is really similar, but doing the opposite operation. From the context words, we want our model to predict the main word.\n",
        "\n",
        "reference: https://www.baeldung.com/cs/word-embeddings-cbow-vs-skip-gram"
      ],
      "metadata": {
        "id": "xeWW6vhDSPHa"
      }
    },
    {
      "cell_type": "code",
      "source": [
        "texts_w2v = df.final_text.apply(tokenize).to_list()\n",
        "\n",
        "w2v = Word2Vec(sentences = texts_w2v, window = 3, min_count = 5, workers = 4, sg = 1)"
      ],
      "metadata": {
        "id": "4Jq7T5LWSMwh"
      },
      "execution_count": 39,
      "outputs": []
    },
    {
      "cell_type": "code",
      "source": [
        "alert code change    /* texts_w2v = df.final_text.apply(tokenize).to_list()\n",
        "\n",
        "w2v = Word2Vec(sentences = texts_w2v, window = 3,\n",
        "               vector_size = 100, min_count = 5, workers = 4, sg = 1) */"
      ],
      "metadata": {
        "id": "J7G1B-R1UwrX",
        "colab": {
          "base_uri": "https://localhost:8080/",
          "height": 135
        },
        "outputId": "4865e350-fb5d-43e0-f067-9f55d040a311"
      },
      "execution_count": 40,
      "outputs": [
        {
          "output_type": "error",
          "ename": "SyntaxError",
          "evalue": "ignored",
          "traceback": [
            "\u001b[0;36m  File \u001b[0;32m\"<ipython-input-40-f3e4aaf2ce06>\"\u001b[0;36m, line \u001b[0;32m1\u001b[0m\n\u001b[0;31m    alert code change    texts_w2v = df.final_text.apply(tokenize).to_list()\u001b[0m\n\u001b[0m             ^\u001b[0m\n\u001b[0;31mSyntaxError\u001b[0m\u001b[0;31m:\u001b[0m invalid syntax\n"
          ]
        }
      ]
    },
    {
      "cell_type": "code",
      "source": [
        "texts_w2v[:3]"
      ],
      "metadata": {
        "colab": {
          "base_uri": "https://localhost:8080/"
        },
        "id": "-E9Q76t_Tm12",
        "outputId": "e16fb4d5-10c1-4642-ebe3-c93272925f71"
      },
      "execution_count": 41,
      "outputs": [
        {
          "output_type": "execute_result",
          "data": {
            "text/plain": [
              "[['dhepburn', 'said'],\n",
              " ['plus', 'youve', 'added', 'commercials', 'experience', 'tacky'],\n",
              " ['didnt', 'today', 'must', 'mean', 'need', 'take', 'another', 'trip']]"
            ]
          },
          "metadata": {},
          "execution_count": 41
        }
      ]
    },
    {
      "cell_type": "code",
      "source": [
        "w2v.wv.doesnt_match(\"man woman dog child kitchen\".split())"
      ],
      "metadata": {
        "colab": {
          "base_uri": "https://localhost:8080/",
          "height": 36
        },
        "id": "-wwPoAHhTqzU",
        "outputId": "1dc29579-4410-4768-b514-30ae82bc65fe"
      },
      "execution_count": 42,
      "outputs": [
        {
          "output_type": "execute_result",
          "data": {
            "text/plain": [
              "'child'"
            ],
            "application/vnd.google.colaboratory.intrinsic+json": {
              "type": "string"
            }
          },
          "metadata": {},
          "execution_count": 42
        }
      ]
    },
    {
      "cell_type": "code",
      "source": [
        "w2v.wv.doesnt_match(\"comfortable bad good well\".split())"
      ],
      "metadata": {
        "colab": {
          "base_uri": "https://localhost:8080/",
          "height": 36
        },
        "id": "eLzmbvABT1Ka",
        "outputId": "c35f0fe4-c578-4698-e7b8-eee0114be873"
      },
      "execution_count": 43,
      "outputs": [
        {
          "output_type": "execute_result",
          "data": {
            "text/plain": [
              "'bad'"
            ],
            "application/vnd.google.colaboratory.intrinsic+json": {
              "type": "string"
            }
          },
          "metadata": {},
          "execution_count": 43
        }
      ]
    },
    {
      "cell_type": "code",
      "source": [
        "w2v.wv.most_similar('thank')"
      ],
      "metadata": {
        "colab": {
          "base_uri": "https://localhost:8080/"
        },
        "id": "zoGqeNWLT5kM",
        "outputId": "f0dafe04-98a2-4d19-f09c-687ab421b779"
      },
      "execution_count": 44,
      "outputs": [
        {
          "output_type": "execute_result",
          "data": {
            "text/plain": [
              "[('much', 0.9832874536514282),\n",
              " ('appreciate', 0.978935718536377),\n",
              " ('amazing', 0.9704297780990601),\n",
              " ('care', 0.9592820405960083),\n",
              " ('best', 0.9583812952041626),\n",
              " ('awesome', 0.9557574987411499),\n",
              " ('company', 0.9548006057739258),\n",
              " ('thanks', 0.9541154503822327),\n",
              " ('love', 0.9537826776504517),\n",
              " ('twitter', 0.9497969150543213)]"
            ]
          },
          "metadata": {},
          "execution_count": 44
        }
      ]
    },
    {
      "cell_type": "code",
      "source": [
        "w2v.wv.most_similar('bad')"
      ],
      "metadata": {
        "colab": {
          "base_uri": "https://localhost:8080/"
        },
        "id": "CQevs2nyT6-P",
        "outputId": "a0e031e8-a63d-4f45-fcf4-d9f7cff6a563"
      },
      "execution_count": 45,
      "outputs": [
        {
          "output_type": "execute_result",
          "data": {
            "text/plain": [
              "[('disappointed', 0.9662600755691528),\n",
              " ('lack', 0.958467960357666),\n",
              " ('awful', 0.943149983882904),\n",
              " ('experienced', 0.9428743720054626),\n",
              " ('staff', 0.9413474202156067),\n",
              " ('poor', 0.9395927786827087),\n",
              " ('flown', 0.9369202852249146),\n",
              " ('seen', 0.9361007213592529),\n",
              " ('excellent', 0.9330252408981323),\n",
              " ('terrible', 0.9314473867416382)]"
            ]
          },
          "metadata": {},
          "execution_count": 45
        }
      ]
    },
    {
      "cell_type": "code",
      "source": [
        "w2v.wv.most_similar('service')"
      ],
      "metadata": {
        "colab": {
          "base_uri": "https://localhost:8080/"
        },
        "id": "Oke4wNbCUBzx",
        "outputId": "eff66365-8046-4f4e-c51f-424960e2880d"
      },
      "execution_count": 46,
      "outputs": [
        {
          "output_type": "execute_result",
          "data": {
            "text/plain": [
              "[('poor', 0.8985153436660767),\n",
              " ('relations', 0.8866140842437744),\n",
              " ('terrible', 0.8800008296966553),\n",
              " ('rep', 0.8758019208908081),\n",
              " ('worst', 0.8703840970993042),\n",
              " ('experience', 0.8688026666641235),\n",
              " ('horrible', 0.8587722778320312),\n",
              " ('rude', 0.8503153324127197),\n",
              " ('ever', 0.8374872207641602),\n",
              " ('experienced', 0.8276994824409485)]"
            ]
          },
          "metadata": {},
          "execution_count": 46
        }
      ]
    },
    {
      "cell_type": "code",
      "source": [
        "w2v.wv.most_similar('delay')"
      ],
      "metadata": {
        "colab": {
          "base_uri": "https://localhost:8080/"
        },
        "id": "amjmgbWjUHiZ",
        "outputId": "e221b690-464e-471c-f785-758da4817aa5"
      },
      "execution_count": 47,
      "outputs": [
        {
          "output_type": "execute_result",
          "data": {
            "text/plain": [
              "[('delayed', 0.9646986722946167),\n",
              " ('runway', 0.9521734714508057),\n",
              " ('tarmac', 0.9505179524421692),\n",
              " ('stuck', 0.9497835636138916),\n",
              " ('jfk', 0.9454899430274963),\n",
              " ('half', 0.9427403211593628),\n",
              " ('sat', 0.9426022171974182),\n",
              " ('ua', 0.9414853453636169),\n",
              " ('sitting', 0.9396677017211914),\n",
              " ('ago', 0.929999828338623)]"
            ]
          },
          "metadata": {},
          "execution_count": 47
        }
      ]
    },
    {
      "cell_type": "code",
      "source": [
        "w2v.wv.most_similar('luggage')"
      ],
      "metadata": {
        "colab": {
          "base_uri": "https://localhost:8080/"
        },
        "id": "chqQLNcEUI2a",
        "outputId": "47013e1f-4b53-4395-a073-cb62aff4624c"
      },
      "execution_count": 48,
      "outputs": [
        {
          "output_type": "execute_result",
          "data": {
            "text/plain": [
              "[('arrived', 0.971377968788147),\n",
              " ('bags', 0.9669680595397949),\n",
              " ('baggage', 0.9664496183395386),\n",
              " ('checked', 0.9658824801445007),\n",
              " ('sit', 0.962864339351654),\n",
              " ('boarded', 0.9625049829483032),\n",
              " ('loaded', 0.9619526863098145),\n",
              " ('pilot', 0.9588346481323242),\n",
              " ('ord', 0.9583019614219666),\n",
              " ('left', 0.9582532048225403)]"
            ]
          },
          "metadata": {},
          "execution_count": 48
        }
      ]
    },
    {
      "cell_type": "markdown",
      "source": [
        "alert code change\n",
        "if word in w2v.wv.index_to_key:"
      ],
      "metadata": {
        "id": "2J-UYtjYUeVJ"
      }
    },
    {
      "cell_type": "code",
      "source": [
        "def get_avg_vector(sent):\n",
        "    vector = np.zeros(100)\n",
        "    total_words = 0\n",
        "    for word in sent.split():        \n",
        "        if word in w2v.wv:\n",
        "            vector += w2v.wv.word_vec(word)\n",
        "            total_words += 1\n",
        "    if total_words > 0:\n",
        "        return vector / total_words\n",
        "    else:\n",
        "        return vector\n",
        "    \n",
        "df['w2v_vector'] = df['text'].map(get_avg_vector)\n",
        "df[['text', 'w2v_vector']].head(2)"
      ],
      "metadata": {
        "colab": {
          "base_uri": "https://localhost:8080/",
          "height": 112
        },
        "id": "RnCmWPmrUMmq",
        "outputId": "fa3c9482-8966-4070-8b8f-e843da83b34b"
      },
      "execution_count": 49,
      "outputs": [
        {
          "output_type": "execute_result",
          "data": {
            "text/plain": [
              "                                                text  \\\n",
              "0                @VirginAmerica What @dhepburn said.   \n",
              "1  @VirginAmerica plus you've added commercials t...   \n",
              "\n",
              "                                          w2v_vector  \n",
              "0  [0.0, 0.0, 0.0, 0.0, 0.0, 0.0, 0.0, 0.0, 0.0, ...  \n",
              "1  [0.029788600280880928, -0.04928203672170639, -...  "
            ],
            "text/html": [
              "\n",
              "  <div id=\"df-0e4a1406-a573-4cd8-88e7-74b6809548ed\">\n",
              "    <div class=\"colab-df-container\">\n",
              "      <div>\n",
              "<style scoped>\n",
              "    .dataframe tbody tr th:only-of-type {\n",
              "        vertical-align: middle;\n",
              "    }\n",
              "\n",
              "    .dataframe tbody tr th {\n",
              "        vertical-align: top;\n",
              "    }\n",
              "\n",
              "    .dataframe thead th {\n",
              "        text-align: right;\n",
              "    }\n",
              "</style>\n",
              "<table border=\"1\" class=\"dataframe\">\n",
              "  <thead>\n",
              "    <tr style=\"text-align: right;\">\n",
              "      <th></th>\n",
              "      <th>text</th>\n",
              "      <th>w2v_vector</th>\n",
              "    </tr>\n",
              "  </thead>\n",
              "  <tbody>\n",
              "    <tr>\n",
              "      <th>0</th>\n",
              "      <td>@VirginAmerica What @dhepburn said.</td>\n",
              "      <td>[0.0, 0.0, 0.0, 0.0, 0.0, 0.0, 0.0, 0.0, 0.0, ...</td>\n",
              "    </tr>\n",
              "    <tr>\n",
              "      <th>1</th>\n",
              "      <td>@VirginAmerica plus you've added commercials t...</td>\n",
              "      <td>[0.029788600280880928, -0.04928203672170639, -...</td>\n",
              "    </tr>\n",
              "  </tbody>\n",
              "</table>\n",
              "</div>\n",
              "      <button class=\"colab-df-convert\" onclick=\"convertToInteractive('df-0e4a1406-a573-4cd8-88e7-74b6809548ed')\"\n",
              "              title=\"Convert this dataframe to an interactive table.\"\n",
              "              style=\"display:none;\">\n",
              "        \n",
              "  <svg xmlns=\"http://www.w3.org/2000/svg\" height=\"24px\"viewBox=\"0 0 24 24\"\n",
              "       width=\"24px\">\n",
              "    <path d=\"M0 0h24v24H0V0z\" fill=\"none\"/>\n",
              "    <path d=\"M18.56 5.44l.94 2.06.94-2.06 2.06-.94-2.06-.94-.94-2.06-.94 2.06-2.06.94zm-11 1L8.5 8.5l.94-2.06 2.06-.94-2.06-.94L8.5 2.5l-.94 2.06-2.06.94zm10 10l.94 2.06.94-2.06 2.06-.94-2.06-.94-.94-2.06-.94 2.06-2.06.94z\"/><path d=\"M17.41 7.96l-1.37-1.37c-.4-.4-.92-.59-1.43-.59-.52 0-1.04.2-1.43.59L10.3 9.45l-7.72 7.72c-.78.78-.78 2.05 0 2.83L4 21.41c.39.39.9.59 1.41.59.51 0 1.02-.2 1.41-.59l7.78-7.78 2.81-2.81c.8-.78.8-2.07 0-2.86zM5.41 20L4 18.59l7.72-7.72 1.47 1.35L5.41 20z\"/>\n",
              "  </svg>\n",
              "      </button>\n",
              "      \n",
              "  <style>\n",
              "    .colab-df-container {\n",
              "      display:flex;\n",
              "      flex-wrap:wrap;\n",
              "      gap: 12px;\n",
              "    }\n",
              "\n",
              "    .colab-df-convert {\n",
              "      background-color: #E8F0FE;\n",
              "      border: none;\n",
              "      border-radius: 50%;\n",
              "      cursor: pointer;\n",
              "      display: none;\n",
              "      fill: #1967D2;\n",
              "      height: 32px;\n",
              "      padding: 0 0 0 0;\n",
              "      width: 32px;\n",
              "    }\n",
              "\n",
              "    .colab-df-convert:hover {\n",
              "      background-color: #E2EBFA;\n",
              "      box-shadow: 0px 1px 2px rgba(60, 64, 67, 0.3), 0px 1px 3px 1px rgba(60, 64, 67, 0.15);\n",
              "      fill: #174EA6;\n",
              "    }\n",
              "\n",
              "    [theme=dark] .colab-df-convert {\n",
              "      background-color: #3B4455;\n",
              "      fill: #D2E3FC;\n",
              "    }\n",
              "\n",
              "    [theme=dark] .colab-df-convert:hover {\n",
              "      background-color: #434B5C;\n",
              "      box-shadow: 0px 1px 3px 1px rgba(0, 0, 0, 0.15);\n",
              "      filter: drop-shadow(0px 1px 2px rgba(0, 0, 0, 0.3));\n",
              "      fill: #FFFFFF;\n",
              "    }\n",
              "  </style>\n",
              "\n",
              "      <script>\n",
              "        const buttonEl =\n",
              "          document.querySelector('#df-0e4a1406-a573-4cd8-88e7-74b6809548ed button.colab-df-convert');\n",
              "        buttonEl.style.display =\n",
              "          google.colab.kernel.accessAllowed ? 'block' : 'none';\n",
              "\n",
              "        async function convertToInteractive(key) {\n",
              "          const element = document.querySelector('#df-0e4a1406-a573-4cd8-88e7-74b6809548ed');\n",
              "          const dataTable =\n",
              "            await google.colab.kernel.invokeFunction('convertToInteractive',\n",
              "                                                     [key], {});\n",
              "          if (!dataTable) return;\n",
              "\n",
              "          const docLinkHtml = 'Like what you see? Visit the ' +\n",
              "            '<a target=\"_blank\" href=https://colab.research.google.com/notebooks/data_table.ipynb>data table notebook</a>'\n",
              "            + ' to learn more about interactive tables.';\n",
              "          element.innerHTML = '';\n",
              "          dataTable['output_type'] = 'display_data';\n",
              "          await google.colab.output.renderOutput(dataTable, element);\n",
              "          const docLink = document.createElement('div');\n",
              "          docLink.innerHTML = docLinkHtml;\n",
              "          element.appendChild(docLink);\n",
              "        }\n",
              "      </script>\n",
              "    </div>\n",
              "  </div>\n",
              "  "
            ]
          },
          "metadata": {},
          "execution_count": 49
        }
      ]
    },
    {
      "cell_type": "code",
      "source": [
        "word2vec_X = df['w2v_vector']\n",
        "y = df['airline_sentiment']\n",
        "\n",
        "X_train_word2vec, X_test_word2vec, y_train_word2vec, y_test_word2vec = train_test_split(word2vec_X, y,\n",
        "                                                   test_size = 0.2, random_state = 4)"
      ],
      "metadata": {
        "id": "n6c-CBiTUdFp"
      },
      "execution_count": 50,
      "outputs": []
    },
    {
      "cell_type": "code",
      "source": [
        "word2vec_lr = LogisticRegression(random_state=42,solver = 'liblinear')\n",
        "word2vec_lr.fit(np.stack(X_train_word2vec), y_train_word2vec)\n",
        "y_predicted_word2vec_lr = word2vec_lr.predict(np.stack(X_test_word2vec))"
      ],
      "metadata": {
        "id": "4bKlL9ZjU957"
      },
      "execution_count": 51,
      "outputs": []
    },
    {
      "cell_type": "code",
      "source": [
        "score_metrics(y_test, y_predicted_word2vec_lr)"
      ],
      "metadata": {
        "colab": {
          "base_uri": "https://localhost:8080/"
        },
        "id": "womFXMePVBoM",
        "outputId": "eb5255f7-30ef-41dd-e550-9ad756729dc2"
      },
      "execution_count": 52,
      "outputs": [
        {
          "output_type": "stream",
          "name": "stdout",
          "text": [
            "accuracy = 0.688, precision = 0.666, recall = 0.458\n"
          ]
        }
      ]
    },
    {
      "cell_type": "code",
      "source": [
        "plot_confusion_matrix(y_test, y_predicted_word2vec_lr)"
      ],
      "metadata": {
        "colab": {
          "base_uri": "https://localhost:8080/",
          "height": 404
        },
        "id": "LBEjpp0WVQjM",
        "outputId": "828a9705-ae0b-492a-aa2e-66ac7eff901f"
      },
      "execution_count": 53,
      "outputs": [
        {
          "output_type": "display_data",
          "data": {
            "text/plain": [
              "<Figure size 576x432 with 2 Axes>"
            ],
            "image/png": "[encoded data removed]"
          },
          "metadata": {
            "needs_background": "light"
          }
        }
      ]
    },
    {
      "cell_type": "markdown",
      "source": [
        "Vectors & Word Embeddings: TF-IDF vs Word2Vec\n",
        "\n",
        "TF-IDF can be used to vectorize text into a format more agreeable for ML & NLP techniques. However while it is a popular NLP algorithm it is not the only one out there.\n",
        "\n",
        "Word2Vec is an algorithm that uses shallow 2-layer, not deep, neural networks to ingest a corpus and produce sets of vectors. Some key differences between TF-IDF and word2vec is that TF-IDF is a statistical measure that we can apply to terms in a document and then use that to form a vector whereas word2vec will produce a vector for a term and then more work may need to be done to convert that set of vectors into a singular vector or other format. Additionally TF-IDF does not take into consideration the context of the words in the corpus whereas word2vec does.\n",
        "\n",
        "reference:https://www.capitalone.com/tech/machine-learning/understanding-tf-idf/"
      ],
      "metadata": {
        "id": "2yDwENFDVWcy"
      }
    },
    {
      "cell_type": "code",
      "source": [
        "max_words = 5000\n",
        "max_len = 100\n",
        "\n",
        "def tokenize_pad_sequences(text):\n",
        "    '''\n",
        "    This function tokenize the input text into sequnences of intergers and then\n",
        "    pad each sequence to the same length\n",
        "    '''\n",
        "    # Text tokenization\n",
        "    tokenizer = Tokenizer(num_words=max_words, lower=True, split=' ')\n",
        "    tokenizer.fit_on_texts(text)\n",
        "    # Transforms text to a sequence of integers\n",
        "    X = tokenizer.texts_to_sequences(text)\n",
        "    # Pad sequences to the same length\n",
        "    X = pad_sequences(X, padding='post', maxlen=max_len)\n",
        "    # return sequences\n",
        "    return X, tokenizer\n",
        "\n",
        "print('Before Tokenization & Padding \\n', df['text'][0],'\\n')\n",
        "X, tokenizer = tokenize_pad_sequences(df['text'])\n",
        "print('After Tokenization & Padding \\n', X[0])"
      ],
      "metadata": {
        "colab": {
          "base_uri": "https://localhost:8080/"
        },
        "id": "Bgi5FfLUVS3l",
        "outputId": "a92847e9-08d3-48da-d2dc-8706aff817df"
      },
      "execution_count": 54,
      "outputs": [
        {
          "output_type": "stream",
          "name": "stdout",
          "text": [
            "Before Tokenization & Padding \n",
            " @VirginAmerica What @dhepburn said. \n",
            "\n",
            "After Tokenization & Padding \n",
            " [ 81  62 226   0   0   0   0   0   0   0   0   0   0   0   0   0   0   0\n",
            "   0   0   0   0   0   0   0   0   0   0   0   0   0   0   0   0   0   0\n",
            "   0   0   0   0   0   0   0   0   0   0   0   0   0   0   0   0   0   0\n",
            "   0   0   0   0   0   0   0   0   0   0   0   0   0   0   0   0   0   0\n",
            "   0   0   0   0   0   0   0   0   0   0   0   0   0   0   0   0   0   0\n",
            "   0   0   0   0   0   0   0   0   0   0]\n"
          ]
        }
      ]
    },
    {
      "cell_type": "code",
      "source": [
        "y = pd.get_dummies(df.airline_sentiment)\n",
        "X_trn, X_tst, y_trn, y_tst = train_test_split(X, y, test_size=0.2, random_state=42, stratify=y)\n",
        "X_trn, X_vld, y_trn, y_vld = train_test_split(X_trn, y_trn, test_size=0.3, random_state=42, stratify=y_trn)\n",
        "\n",
        "print('Train:         ', X_trn.shape, y_trn.shape)\n",
        "print('Validation Set:', X_vld.shape, y_vld.shape)\n",
        "print('Test Set:      ', X_tst.shape, y_tst.shape)"
      ],
      "metadata": {
        "colab": {
          "base_uri": "https://localhost:8080/"
        },
        "id": "hAB0IEY2Vi1D",
        "outputId": "bec10509-350d-478b-c8d9-ff344a081eb3"
      },
      "execution_count": 55,
      "outputs": [
        {
          "output_type": "stream",
          "name": "stdout",
          "text": [
            "Train:          (8198, 100) (8198, 3)\n",
            "Validation Set: (3514, 100) (3514, 3)\n",
            "Test Set:       (2928, 100) (2928, 3)\n"
          ]
        }
      ]
    },
    {
      "cell_type": "code",
      "source": [
        "vocab_size = 5000\n",
        "embedding_size = 32\n",
        "epochs=50\n",
        "\n",
        "model= Sequential()\n",
        "model.add(Embedding(vocab_size, embedding_size, input_length=max_len))\n",
        "model.add(Conv1D(filters=32, kernel_size=3, padding='same', activation='relu'))\n",
        "model.add(MaxPooling1D(pool_size=2))\n",
        "model.add(Bidirectional(LSTM(32)))\n",
        "model.add(Dropout(0.4))\n",
        "model.add(Dense(3, activation='softmax'))\n",
        "\n",
        "plot_model(model, show_shapes = True)"
      ],
      "metadata": {
        "colab": {
          "base_uri": "https://localhost:8080/",
          "height": 754
        },
        "id": "hFuyv8jsVkqw",
        "outputId": "f6f15070-4072-4d9d-aa23-36e09ab2c1e5"
      },
      "execution_count": 56,
      "outputs": [
        {
          "output_type": "execute_result",
          "data": {
            "text/plain": [
              "<IPython.core.display.Image object>"
            ],
            "image/png": "[encoded data removed]"
          },
          "metadata": {},
          "execution_count": 56
        }
      ]
    },
    {
      "cell_type": "code",
      "source": [
        "model.compile(loss='categorical_crossentropy', optimizer='adam', metrics=['accuracy'])\n",
        "print(model.summary())"
      ],
      "metadata": {
        "colab": {
          "base_uri": "https://localhost:8080/"
        },
        "id": "yBLKOlxTVpRM",
        "outputId": "4f14b1f2-36ea-41c7-9cd5-e3daa9019209"
      },
      "execution_count": 57,
      "outputs": [
        {
          "output_type": "stream",
          "name": "stdout",
          "text": [
            "Model: \"sequential\"\n",
            "_________________________________________________________________\n",
            " Layer (type)                Output Shape              Param #   \n",
            "=================================================================\n",
            " embedding (Embedding)       (None, 100, 32)           160000    \n",
            "                                                                 \n",
            " conv1d (Conv1D)             (None, 100, 32)           3104      \n",
            "                                                                 \n",
            " max_pooling1d (MaxPooling1D  (None, 50, 32)           0         \n",
            " )                                                               \n",
            "                                                                 \n",
            " bidirectional (Bidirectiona  (None, 64)               16640     \n",
            " l)                                                              \n",
            "                                                                 \n",
            " dropout (Dropout)           (None, 64)                0         \n",
            "                                                                 \n",
            " dense (Dense)               (None, 3)                 195       \n",
            "                                                                 \n",
            "=================================================================\n",
            "Total params: 179,939\n",
            "Trainable params: 179,939\n",
            "Non-trainable params: 0\n",
            "_________________________________________________________________\n",
            "None\n"
          ]
        }
      ]
    },
    {
      "cell_type": "code",
      "source": [
        "es = EarlyStopping(monitor = 'val_loss', patience=5)\n",
        "batch_size = 64\n",
        "\n",
        "history = model.fit(X_trn, y_trn,\n",
        "                    validation_data=(X_vld, y_vld),\n",
        "                    batch_size=batch_size, epochs=epochs, verbose=1,\n",
        "                    callbacks = [es])"
      ],
      "metadata": {
        "colab": {
          "base_uri": "https://localhost:8080/"
        },
        "id": "m6IYLUZ-VujL",
        "outputId": "a2a54ad1-2e42-48af-e623-3855eb2602ad"
      },
      "execution_count": 69,
      "outputs": [
        {
          "output_type": "stream",
          "name": "stdout",
          "text": [
            "Epoch 1/50\n",
            "129/129 [==============================] - 8s 64ms/step - loss: 0.0136 - accuracy: 0.9961 - val_loss: 1.8030 - val_accuracy: 0.7641\n",
            "Epoch 2/50\n",
            "129/129 [==============================] - 8s 65ms/step - loss: 0.0130 - accuracy: 0.9957 - val_loss: 1.8832 - val_accuracy: 0.7658\n",
            "Epoch 3/50\n",
            "129/129 [==============================] - 8s 65ms/step - loss: 0.0137 - accuracy: 0.9954 - val_loss: 1.8939 - val_accuracy: 0.7595\n",
            "Epoch 4/50\n",
            "129/129 [==============================] - 9s 66ms/step - loss: 0.0143 - accuracy: 0.9955 - val_loss: 1.9231 - val_accuracy: 0.7618\n",
            "Epoch 5/50\n",
            "129/129 [==============================] - 9s 66ms/step - loss: 0.0131 - accuracy: 0.9959 - val_loss: 1.9626 - val_accuracy: 0.7575\n",
            "Epoch 6/50\n",
            "129/129 [==============================] - 9s 66ms/step - loss: 0.0134 - accuracy: 0.9961 - val_loss: 1.9658 - val_accuracy: 0.7698\n"
          ]
        }
      ]
    },
    {
      "cell_type": "code",
      "source": [
        "loss, accuracy = model.evaluate(X_tst, y_tst, verbose=0)\n",
        "\n",
        "# Print metrics\n",
        "print('Accuracy  : {:.4f}'.format(accuracy))"
      ],
      "metadata": {
        "colab": {
          "base_uri": "https://localhost:8080/"
        },
        "id": "FE9P7bVoWTEx",
        "outputId": "985c68c9-5432-44e6-ec57-0988b2eb1250"
      },
      "execution_count": 66,
      "outputs": [
        {
          "output_type": "stream",
          "name": "stdout",
          "text": [
            "Accuracy  : 0.7589\n"
          ]
        }
      ]
    },
    {
      "cell_type": "code",
      "source": [
        "plt.figure(figsize=(12, 4))\n",
        "\n",
        "plt.subplot(1, 2, 1)\n",
        "plt.plot(history.history['loss'], 'b--', label = 'loss')\n",
        "plt.plot(history.history['val_loss'], 'r:', label = 'val_loss')\n",
        "plt.xlabel('Epochs')\n",
        "plt.legend()\n",
        "\n",
        "plt.subplot(1, 2, 2)\n",
        "plt.plot(history.history['accuracy'], 'b--', label = 'acc')\n",
        "plt.plot(history.history['val_accuracy'], 'r:', label = 'val_acc')\n",
        "plt.xlabel('Epochs')\n",
        "plt.legend()\n",
        "\n",
        "plt.show()"
      ],
      "metadata": {
        "colab": {
          "base_uri": "https://localhost:8080/",
          "height": 279
        },
        "id": "kZDPWlEaWbQc",
        "outputId": "f7705d94-c12c-4d59-a240-417b63f75703"
      },
      "execution_count": 67,
      "outputs": [
        {
          "output_type": "display_data",
          "data": {
            "text/plain": [
              "<Figure size 864x288 with 2 Axes>"
            ],
            "image/png": "[encoded data removed]"
          },
          "metadata": {
            "needs_background": "light"
          }
        }
      ]
    },
    {
      "cell_type": "code",
      "source": [
        "def plot_confusion_matrix(model, X_test, y_test):\n",
        "    \n",
        "    sentiment_classes = ['Negative', 'Neutral', 'Positive']\n",
        "    y_pred = model.predict(X_test)\n",
        "    cm = confusion_matrix(np.argmax(np.array(y_test),axis=1), np.argmax(y_pred, axis=1))\n",
        "    plt.figure(figsize=(8,6))\n",
        "    sns.heatmap(cm, cmap=plt.cm.Blues, annot=True, fmt='d', \n",
        "                xticklabels=sentiment_classes,\n",
        "                yticklabels=sentiment_classes)\n",
        "    plt.title('Confusion matrix', fontsize=16)\n",
        "    plt.xlabel('Actual label', fontsize=12)\n",
        "    plt.ylabel('Predicted label', fontsize=12)\n",
        "    \n",
        "plot_confusion_matrix(model, X_tst, y_tst)"
      ],
      "metadata": {
        "colab": {
          "base_uri": "https://localhost:8080/",
          "height": 409
        },
        "id": "wwrX_axyWgg2",
        "outputId": "fa4781c7-0db8-4872-ddc8-14a0c84987b7"
      },
      "execution_count": 68,
      "outputs": [
        {
          "output_type": "display_data",
          "data": {
            "text/plain": [
              "<Figure size 576x432 with 2 Axes>"
            ],
            "image/png": "[encoded data removed]"
          },
          "metadata": {
            "needs_background": "light"
          }
        }
      ]
    }
  ]
}